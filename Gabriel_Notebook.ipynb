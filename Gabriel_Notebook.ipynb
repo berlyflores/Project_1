{
 "cells": [
  {
   "cell_type": "markdown",
   "metadata": {},
   "source": [
    "# Project: Electricity Prices vs Population"
   ]
  },
  {
   "cell_type": "markdown",
   "metadata": {},
   "source": [
    "There has been a diversification of electricity sources in the past few decades. This has led to a rising and lowering cost in the electricity depending on the source diversification and, of course, the location within the United States. We are interested in determining whether the population density will add to the cost."
   ]
  },
  {
   "cell_type": "code",
   "execution_count": 10,
   "metadata": {},
   "outputs": [],
   "source": [
    "# Dependencies and Setup\n",
    "import requests\n",
    "from pprint import pprint\n",
    "import matplotlib.pyplot as plt\n",
    "import pandas as pd\n",
    "import numpy as np\n",
    "import scipy.stats as sts\n",
    "from scipy.stats import sem\n",
    "from scipy.stats import linregress\n",
    "\n",
    "# Import API key\n",
    "from Gabriel_Key import g_key, EIA_Key"
   ]
  },
  {
   "cell_type": "code",
   "execution_count": 11,
   "metadata": {},
   "outputs": [],
   "source": [
    "# Study data files\n",
    "# data_example = \"data/example.csv\""
   ]
  },
  {
   "cell_type": "markdown",
   "metadata": {},
   "source": [
    "## Save config information & build the query URL"
   ]
  },
  {
   "cell_type": "code",
   "execution_count": 12,
   "metadata": {},
   "outputs": [
    {
     "name": "stdout",
     "output_type": "stream",
     "text": [
      "http://api.eia.gov/series/?api_key=ece1bdd76c031181809dd3bc0981ec95&series_id=ELEC.SALES.TX-ALL.A\n"
     ]
    }
   ],
   "source": [
    "# Retail sales of electricity : Texas : all sectors : annua\n",
    "url = \"http://api.eia.gov/series/?\"\n",
    "\n",
    "series_id = \"ELEC.SALES.TX-ALL.A\"\n",
    "\n",
    "# Build query URL\n",
    "query_url = url + \"api_key=\" + EIA_Key + \"&series_id=\" + series_id\n",
    "\n",
    "print(query_url)"
   ]
  },
  {
   "cell_type": "code",
   "execution_count": 13,
   "metadata": {},
   "outputs": [
    {
     "name": "stdout",
     "output_type": "stream",
     "text": [
      "http://api.eia.gov/series/?api_key=ece1bdd76c031181809dd3bc0981ec95&series_id=ELEC.CUSTOMERS.TX-RES.A\n"
     ]
    }
   ],
   "source": [
    "# Number of customer accounts : Texas : residential : annual\n",
    "series_id = \"ELEC.CUSTOMERS.TX-RES.A\"\n",
    "\n",
    "# Build query URL\n",
    "query_url = url + \"api_key=\" + EIA_Key + \"&series_id=\" + series_id\n",
    "\n",
    "print(query_url)"
   ]
  },
  {
   "cell_type": "markdown",
   "metadata": {},
   "source": [
    "## Get weather data"
   ]
  },
  {
   "cell_type": "code",
   "execution_count": 14,
   "metadata": {},
   "outputs": [],
   "source": [
    "# Request data using the API\n",
    "eia_response = requests.get(query_url).json()"
   ]
  },
  {
   "cell_type": "code",
   "execution_count": 16,
   "metadata": {},
   "outputs": [
    {
     "name": "stdout",
     "output_type": "stream",
     "text": [
      "{'request': {'command': 'series', 'series_id': 'ELEC.CUSTOMERS.TX-RES.A'},\n",
      " 'series': [{'copyright': 'None',\n",
      "             'data': [['2019', 11055522.916666666],\n",
      "                      ['2018', 11148781.416666666],\n",
      "                      ['2017', 10809487.666666666],\n",
      "                      ['2016', 10521731.083333334],\n",
      "                      ['2015', 10317999.416666666],\n",
      "                      ['2014', 10138871.166666666],\n",
      "                      ['2013', 9954290.333333334],\n",
      "                      ['2012', 9802101.666666666],\n",
      "                      ['2011', 9621479.583333334],\n",
      "                      ['2010', 9536767.416666666],\n",
      "                      ['2009', 9491965.5],\n",
      "                      ['2008', 9461512.583333334]],\n",
      "             'description': 'Electricity sold to residential customers; '\n",
      "                            'Electricity sold to residential customers; ',\n",
      "             'end': '2019',\n",
      "             'f': 'A',\n",
      "             'geography': 'USA-TX',\n",
      "             'iso3166': 'USA-TX',\n",
      "             'name': 'Number of customer accounts : Texas : residential : '\n",
      "                     'annual',\n",
      "             'series_id': 'ELEC.CUSTOMERS.TX-RES.A',\n",
      "             'source': 'EIA, U.S. Energy Information Administration',\n",
      "             'start': '2008',\n",
      "             'units': 'number of customers',\n",
      "             'updated': '2020-03-23T18:31:14-0400'}]}\n"
     ]
    }
   ],
   "source": [
    "# Print the response of the request\n",
    "pprint(eia_response)"
   ]
  },
  {
   "cell_type": "code",
   "execution_count": 23,
   "metadata": {},
   "outputs": [
    {
     "data": {
      "text/plain": [
       "dict_keys(['request', 'series'])"
      ]
     },
     "execution_count": 23,
     "metadata": {},
     "output_type": "execute_result"
    }
   ],
   "source": [
    "# Retrieve the keys from the JSON data request\n",
    "eia_response.keys()"
   ]
  },
  {
   "cell_type": "code",
   "execution_count": 30,
   "metadata": {},
   "outputs": [
    {
     "data": {
      "text/plain": [
       "[{'series_id': 'ELEC.CUSTOMERS.TX-RES.A',\n",
       "  'name': 'Number of customer accounts : Texas : residential : annual',\n",
       "  'units': 'number of customers',\n",
       "  'f': 'A',\n",
       "  'description': 'Electricity sold to residential customers; Electricity sold to residential customers; ',\n",
       "  'copyright': 'None',\n",
       "  'source': 'EIA, U.S. Energy Information Administration',\n",
       "  'iso3166': 'USA-TX',\n",
       "  'geography': 'USA-TX',\n",
       "  'start': '2008',\n",
       "  'end': '2019',\n",
       "  'updated': '2020-03-23T18:31:14-0400',\n",
       "  'data': [['2019', 11055522.916666666],\n",
       "   ['2018', 11148781.416666666],\n",
       "   ['2017', 10809487.666666666],\n",
       "   ['2016', 10521731.083333334],\n",
       "   ['2015', 10317999.416666666],\n",
       "   ['2014', 10138871.166666666],\n",
       "   ['2013', 9954290.333333334],\n",
       "   ['2012', 9802101.666666666],\n",
       "   ['2011', 9621479.583333334],\n",
       "   ['2010', 9536767.416666666],\n",
       "   ['2009', 9491965.5],\n",
       "   ['2008', 9461512.583333334]]}]"
      ]
     },
     "execution_count": 30,
     "metadata": {},
     "output_type": "execute_result"
    }
   ],
   "source": [
    "# Access the request data using the keys\n",
    "eia_response['series']"
   ]
  },
  {
   "cell_type": "code",
   "execution_count": 33,
   "metadata": {},
   "outputs": [
    {
     "data": {
      "text/plain": [
       "[['2019', 11055522.916666666],\n",
       " ['2018', 11148781.416666666],\n",
       " ['2017', 10809487.666666666],\n",
       " ['2016', 10521731.083333334],\n",
       " ['2015', 10317999.416666666],\n",
       " ['2014', 10138871.166666666],\n",
       " ['2013', 9954290.333333334],\n",
       " ['2012', 9802101.666666666],\n",
       " ['2011', 9621479.583333334],\n",
       " ['2010', 9536767.416666666],\n",
       " ['2009', 9491965.5],\n",
       " ['2008', 9461512.583333334]]"
      ]
     },
     "execution_count": 33,
     "metadata": {},
     "output_type": "execute_result"
    }
   ],
   "source": [
    "# Accessing the data inside the list\n",
    "data = eia_response['series'][0]['data']\n",
    "data"
   ]
  },
  {
   "cell_type": "code",
   "execution_count": 41,
   "metadata": {},
   "outputs": [
    {
     "data": {
      "text/html": [
       "<div>\n",
       "<style scoped>\n",
       "    .dataframe tbody tr th:only-of-type {\n",
       "        vertical-align: middle;\n",
       "    }\n",
       "\n",
       "    .dataframe tbody tr th {\n",
       "        vertical-align: top;\n",
       "    }\n",
       "\n",
       "    .dataframe thead th {\n",
       "        text-align: right;\n",
       "    }\n",
       "</style>\n",
       "<table border=\"1\" class=\"dataframe\">\n",
       "  <thead>\n",
       "    <tr style=\"text-align: right;\">\n",
       "      <th></th>\n",
       "      <th>Year</th>\n",
       "      <th>Customer Accounts</th>\n",
       "    </tr>\n",
       "  </thead>\n",
       "  <tbody>\n",
       "    <tr>\n",
       "      <th>0</th>\n",
       "      <td>2019</td>\n",
       "      <td>1.105552e+07</td>\n",
       "    </tr>\n",
       "    <tr>\n",
       "      <th>1</th>\n",
       "      <td>2018</td>\n",
       "      <td>1.114878e+07</td>\n",
       "    </tr>\n",
       "    <tr>\n",
       "      <th>2</th>\n",
       "      <td>2017</td>\n",
       "      <td>1.080949e+07</td>\n",
       "    </tr>\n",
       "    <tr>\n",
       "      <th>3</th>\n",
       "      <td>2016</td>\n",
       "      <td>1.052173e+07</td>\n",
       "    </tr>\n",
       "    <tr>\n",
       "      <th>4</th>\n",
       "      <td>2015</td>\n",
       "      <td>1.031800e+07</td>\n",
       "    </tr>\n",
       "    <tr>\n",
       "      <th>5</th>\n",
       "      <td>2014</td>\n",
       "      <td>1.013887e+07</td>\n",
       "    </tr>\n",
       "    <tr>\n",
       "      <th>6</th>\n",
       "      <td>2013</td>\n",
       "      <td>9.954290e+06</td>\n",
       "    </tr>\n",
       "    <tr>\n",
       "      <th>7</th>\n",
       "      <td>2012</td>\n",
       "      <td>9.802102e+06</td>\n",
       "    </tr>\n",
       "    <tr>\n",
       "      <th>8</th>\n",
       "      <td>2011</td>\n",
       "      <td>9.621480e+06</td>\n",
       "    </tr>\n",
       "    <tr>\n",
       "      <th>9</th>\n",
       "      <td>2010</td>\n",
       "      <td>9.536767e+06</td>\n",
       "    </tr>\n",
       "    <tr>\n",
       "      <th>10</th>\n",
       "      <td>2009</td>\n",
       "      <td>9.491966e+06</td>\n",
       "    </tr>\n",
       "    <tr>\n",
       "      <th>11</th>\n",
       "      <td>2008</td>\n",
       "      <td>9.461513e+06</td>\n",
       "    </tr>\n",
       "  </tbody>\n",
       "</table>\n",
       "</div>"
      ],
      "text/plain": [
       "    Year  Customer Accounts\n",
       "0   2019       1.105552e+07\n",
       "1   2018       1.114878e+07\n",
       "2   2017       1.080949e+07\n",
       "3   2016       1.052173e+07\n",
       "4   2015       1.031800e+07\n",
       "5   2014       1.013887e+07\n",
       "6   2013       9.954290e+06\n",
       "7   2012       9.802102e+06\n",
       "8   2011       9.621480e+06\n",
       "9   2010       9.536767e+06\n",
       "10  2009       9.491966e+06\n",
       "11  2008       9.461513e+06"
      ]
     },
     "execution_count": 41,
     "metadata": {},
     "output_type": "execute_result"
    }
   ],
   "source": [
    "# Create a dataframe with the data\n",
    "ELEC_CUSTOMERS_RES_TX = pd.DataFrame(data,columns=['Year','Customer Accounts'])\n",
    "ELEC_CUSTOMERS_RES_TX"
   ]
  },
  {
   "cell_type": "code",
   "execution_count": 45,
   "metadata": {},
   "outputs": [
    {
     "data": {
      "text/plain": [
       "<matplotlib.axes._subplots.AxesSubplot at 0x1a1ae9b850>"
      ]
     },
     "execution_count": 45,
     "metadata": {},
     "output_type": "execute_result"
    },
    {
     "data": {
      "image/png": "[encoded data removed]",
      "text/plain": [
       "<Figure size 432x288 with 1 Axes>"
      ]
     },
     "metadata": {
      "needs_background": "light"
     },
     "output_type": "display_data"
    }
   ],
   "source": [
    "# plt.figure(figsize=(15,6))\n",
    "ELEC_CUSTOMERS_RES_TX.plot()"
   ]
  },
  {
   "cell_type": "code",
   "execution_count": null,
   "metadata": {},
   "outputs": [],
   "source": []
  }
 ],
 "metadata": {
  "kernelspec": {
   "display_name": "Python 3",
   "language": "python",
   "name": "python3"
  },
  "language_info": {
   "codemirror_mode": {
    "name": "ipython",
    "version": 3
   },
   "file_extension": ".py",
   "mimetype": "text/x-python",
   "name": "python",
   "nbconvert_exporter": "python",
   "pygments_lexer": "ipython3",
   "version": "3.7.6"
  }
 },
 "nbformat": 4,
 "nbformat_minor": 4
}
